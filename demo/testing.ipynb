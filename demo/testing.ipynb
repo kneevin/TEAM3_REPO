{
 "cells": [
  {
   "cell_type": "code",
   "execution_count": 1,
   "metadata": {},
   "outputs": [],
   "source": [
    "from collections import defaultdict\n",
    "import json\n",
    "import base64"
   ]
  },
  {
   "cell_type": "code",
   "execution_count": 2,
   "metadata": {},
   "outputs": [],
   "source": [
    "fname = \"./sample.ipynb\"\n",
    "\n",
    "with open(fname) as fp:\n",
    "    nb = json.load(fp)"
   ]
  },
  {
   "cell_type": "code",
   "execution_count": 3,
   "metadata": {},
   "outputs": [],
   "source": [
    "image_b64 = defaultdict(list)\n",
    "for cell in nb['cells']:\n",
    "    for d in cell['outputs']:\n",
    "        for k, v in d['data'].items():\n",
    "            if 'image' in k:\n",
    "                img_type = k.replace('image/', '')\n",
    "                img_text = base64.b64decode(v)\n",
    "                image_b64[img_type].append(img_text)"
   ]
  },
  {
   "cell_type": "code",
   "execution_count": 4,
   "metadata": {},
   "outputs": [],
   "source": [
    "b64_txt = image_b64['png'][0]\n",
    "with open('fname.png', 'wb') as f:\n",
    "    f.write(b64_txt)"
   ]
  }
 ],
 "metadata": {
  "kernelspec": {
   "display_name": "venv",
   "language": "python",
   "name": "python3"
  },
  "language_info": {
   "codemirror_mode": {
    "name": "ipython",
    "version": 3
   },
   "file_extension": ".py",
   "mimetype": "text/x-python",
   "name": "python",
   "nbconvert_exporter": "python",
   "pygments_lexer": "ipython3",
   "version": "3.10.8"
  }
 },
 "nbformat": 4,
 "nbformat_minor": 2
}
